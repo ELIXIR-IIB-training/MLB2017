{
 "cells": [
  {
   "cell_type": "markdown",
   "metadata": {
    "slideshow": {
     "slide_type": "-"
    }
   },
   "source": [
    "# The problem setting\n",
    "\n",
    "## Building an example dataset\n",
    "\n",
    "[Scikit-learn](http://scikit-learn.org/) (`sklearn`) comes with a few standard datasets and various random sample generators. Here we generate 2 [isotropic Gaussian blobs](http://scikit-learn.org/stable/modules/generated/sklearn.datasets.make_blobs.html), with 100 samples (50 per class) and 2 variables.\n",
    "\n",
    "From the scikit-learn package import the module [`datasets`](http://scikit-learn.org/stable/modules/classes.html#module-sklearn.datasets):"
   ]
  },
  {
   "cell_type": "code",
   "execution_count": 1,
   "metadata": {
    "collapsed": true,
    "slideshow": {
     "slide_type": "-"
    }
   },
   "outputs": [],
   "source": [
    "# TO BE COMPLETED\n",
    "from sklearn import datasets"
   ]
  },
  {
   "cell_type": "markdown",
   "metadata": {
    "slideshow": {
     "slide_type": "-"
    }
   },
   "source": [
    "Now we can create the dataset. The [`make_blobs()`](http://scikit-learn.org/stable/modules/generated/sklearn.datasets.make_blobs.html) will return a tuple composed of a [numpy array](https://www.scipy.org/) of shape $n_{samples}, n_{features}$ (i.e. a matrix) containing the data and a numpy array of shape $n_{samples}$ (i.e. a vector) containing the integer labels for cluster membership of each sample.\n",
    "\n",
    "The parameter `random_state=0` sets the [random seed](https://en.wikipedia.org/wiki/Random_seed) to 0 and ensures replicability ."
   ]
  },
  {
   "cell_type": "code",
   "execution_count": 2,
   "metadata": {
    "collapsed": true
   },
   "outputs": [],
   "source": [
    "# TO BE COMPLETED\n",
    "X, y = datasets.make_blobs(n_samples=100, n_features=2, centers=2, random_state=0)"
   ]
  },
  {
   "cell_type": "markdown",
   "metadata": {},
   "source": [
    "Print 10 samples:"
   ]
  },
  {
   "cell_type": "code",
   "execution_count": 3,
   "metadata": {},
   "outputs": [
    {
     "name": "stdout",
     "output_type": "stream",
     "text": [
      "[[ 4.21850347  2.23419161]\n",
      " [ 0.90779887  0.45984362]\n",
      " [-0.27652528  5.08127768]\n",
      " [ 0.08848433  2.32299086]\n",
      " [ 3.24329731  1.21460627]\n",
      " [ 1.44193252  2.76754364]\n",
      " [ 1.0220286   4.11660348]\n",
      " [ 3.97820955  2.37817845]\n",
      " [ 0.58894326  4.00148458]\n",
      " [ 1.25185786  0.20811388]]\n"
     ]
    }
   ],
   "source": [
    "# TO BE COMPLETED\n",
    "print(X[0:10]) # print the first 10 samples"
   ]
  },
  {
   "cell_type": "markdown",
   "metadata": {
    "slideshow": {
     "slide_type": "slide"
    }
   },
   "source": [
    "The labels (in this case the species membership for each sample) are encoded with values from $0$ to $n_{classes}−1$:"
   ]
  },
  {
   "cell_type": "code",
   "execution_count": 4,
   "metadata": {},
   "outputs": [
    {
     "name": "stdout",
     "output_type": "stream",
     "text": [
      "[1 1 0 0 1 0 0 1 0 1 0 1 0 0 1 1 1 0 1 1 0 0 1 0 1 0 1 0 0 1 1 0 1 1 1 0 1\n",
      " 1 0 1 0 0 0 0 1 1 1 1 0 0 1 1 0 0 0 0 0 1 1 1 1 0 0 1 0 1 0 0 1 0 0 1 1 0\n",
      " 0 0 1 1 0 0 1 0 0 0 0 0 1 0 1 1 1 1 1 1 0 0 1 1 0 1]\n"
     ]
    }
   ],
   "source": [
    "# TO BE COMPLETED\n",
    "print(y)"
   ]
  },
  {
   "cell_type": "markdown",
   "metadata": {},
   "source": [
    "## Plot the dataset\n",
    "\n",
    "Import the [Matplotlib](https://matplotlib.org/) library:"
   ]
  },
  {
   "cell_type": "code",
   "execution_count": 5,
   "metadata": {
    "collapsed": true
   },
   "outputs": [],
   "source": [
    "# TO BE COMPLETED\n",
    "import matplotlib.pyplot as plt"
   ]
  },
  {
   "cell_type": "markdown",
   "metadata": {},
   "source": [
    "Initialize the [figure](https://matplotlib.org/api/pyplot_api.html?highlight=figure#matplotlib.pyplot.figure):"
   ]
  },
  {
   "cell_type": "code",
   "execution_count": 6,
   "metadata": {},
   "outputs": [
    {
     "data": {
      "text/plain": [
       "<matplotlib.figure.Figure at 0x7f72885882b0>"
      ]
     },
     "execution_count": 6,
     "metadata": {},
     "output_type": "execute_result"
    }
   ],
   "source": [
    "# TO BE COMPLETED\n",
    "plt.figure(figsize=(6, 6)) # width, height in inches"
   ]
  },
  {
   "cell_type": "markdown",
   "metadata": {},
   "source": [
    "Now we can make the [scatter plot](https://matplotlib.org/api/pyplot_api.html?highlight=scatter#matplotlib.pyplot.scatter). We pass the first column (the first variable) as the x axis and the second column (the second variable) as the y axis:"
   ]
  },
  {
   "cell_type": "code",
   "execution_count": 7,
   "metadata": {},
   "outputs": [
    {
     "data": {
      "image/png": "[encoded data removed]",
      "text/plain": [
       "<matplotlib.figure.Figure at 0x7f72885882b0>"
      ]
     },
     "metadata": {},
     "output_type": "display_data"
    }
   ],
   "source": [
    "# TO BE COMPLETED\n",
    "plt.scatter(X[:, 0], X[:, 1], c=y)\n",
    "plt.show()"
   ]
  },
  {
   "cell_type": "code",
   "execution_count": null,
   "metadata": {
    "collapsed": true
   },
   "outputs": [],
   "source": []
  }
 ],
 "metadata": {
  "kernelspec": {
   "display_name": "Python 3",
   "language": "python",
   "name": "python3"
  },
  "language_info": {
   "codemirror_mode": {
    "name": "ipython",
    "version": 3
   },
   "file_extension": ".py",
   "mimetype": "text/x-python",
   "name": "python",
   "nbconvert_exporter": "python",
   "pygments_lexer": "ipython3",
   "version": "3.5.2"
  }
 },
 "nbformat": 4,
 "nbformat_minor": 2
}

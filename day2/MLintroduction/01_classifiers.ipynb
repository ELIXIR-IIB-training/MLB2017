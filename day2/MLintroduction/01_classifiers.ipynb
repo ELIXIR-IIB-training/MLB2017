{
 "cells": [
  {
   "cell_type": "markdown",
   "metadata": {
    "slideshow": {
     "slide_type": "-"
    }
   },
   "source": [
    "# Classifiers in scikit-learn\n",
    "\n",
    "## Importing the libraries and data\n",
    "\n",
    "Import the numpy, matplotlib and scikit-learn libraries:"
   ]
  },
  {
   "cell_type": "code",
   "execution_count": 1,
   "metadata": {
    "collapsed": true
   },
   "outputs": [],
   "source": [
    "import numpy as np\n",
    "import matplotlib.pyplot as plt\n",
    "\n",
    "from sklearn import datasets\n",
    "from sklearn.svm import SVC"
   ]
  },
  {
   "cell_type": "markdown",
   "metadata": {},
   "source": [
    "Now we can build the example dataset:"
   ]
  },
  {
   "cell_type": "code",
   "execution_count": 2,
   "metadata": {
    "collapsed": true,
    "slideshow": {
     "slide_type": "-"
    }
   },
   "outputs": [],
   "source": [
    "X, y = datasets.make_blobs(n_samples=50, n_features=2, centers=2, random_state=0)"
   ]
  },
  {
   "cell_type": "markdown",
   "metadata": {
    "slideshow": {
     "slide_type": "-"
    }
   },
   "source": [
    "## Learning and predicting"
   ]
  },
  {
   "cell_type": "markdown",
   "metadata": {},
   "source": [
    "In scikit-learn, an estimator for classification is a Python object that implements the methods **`fit(X, y)`** and **`predict(T)`**. An example of an estimator is the class [SVC](http://scikit-learn.org/stable/modules/generated/sklearn.svm.SVC.html) that implements the Support Vector Machine for classification.\n",
    "\n",
    "In this case we want to use a **linear SVM classifier** with the **penalty parameter `C` equal to 1**:"
   ]
  },
  {
   "cell_type": "code",
   "execution_count": 3,
   "metadata": {
    "collapsed": true
   },
   "outputs": [],
   "source": [
    "# TO BE COMPLETED\n",
    "clf = SVC(kernel='linear', C=1.0)"
   ]
  },
  {
   "cell_type": "markdown",
   "metadata": {
    "slideshow": {
     "slide_type": "slide"
    }
   },
   "source": [
    "Now we train the classifier on the dataset:"
   ]
  },
  {
   "cell_type": "code",
   "execution_count": 4,
   "metadata": {},
   "outputs": [
    {
     "data": {
      "text/plain": [
       "SVC(C=1.0, cache_size=200, class_weight=None, coef0=0.0,\n",
       "  decision_function_shape=None, degree=3, gamma='auto', kernel='linear',\n",
       "  max_iter=-1, probability=False, random_state=None, shrinking=True,\n",
       "  tol=0.001, verbose=False)"
      ]
     },
     "execution_count": 4,
     "metadata": {},
     "output_type": "execute_result"
    }
   ],
   "source": [
    "# TO BE COMPLETED\n",
    "clf.fit(X, y)"
   ]
  },
  {
   "cell_type": "markdown",
   "metadata": {},
   "source": [
    "Now we can predict the class label of two new samples:"
   ]
  },
  {
   "cell_type": "code",
   "execution_count": 5,
   "metadata": {},
   "outputs": [
    {
     "data": {
      "text/plain": [
       "array([1, 0])"
      ]
     },
     "execution_count": 5,
     "metadata": {},
     "output_type": "execute_result"
    }
   ],
   "source": [
    "# TO BE COMPLETED\n",
    "X_new = np.array([[0.5, 0.4], [1.1, 4.0]])\n",
    "clf.predict(X_new)"
   ]
  },
  {
   "cell_type": "markdown",
   "metadata": {},
   "source": [
    "The first sample is predicted as class 1 and the second sample as class 0."
   ]
  },
  {
   "cell_type": "markdown",
   "metadata": {},
   "source": [
    "## Plot the samples and the decision regions\n",
    "\n"
   ]
  },
  {
   "cell_type": "code",
   "execution_count": 6,
   "metadata": {
    "scrolled": true
   },
   "outputs": [
    {
     "data": {
      "image/png": "[encoded data removed]",
      "text/plain": [
       "<matplotlib.figure.Figure at 0x7f08b23c1240>"
      ]
     },
     "metadata": {},
     "output_type": "display_data"
    }
   ],
   "source": [
    "# create a dense grid of points and predict\n",
    "f0_min, f0_max = X[:, 0].min()-1, X[:, 0].max()+1\n",
    "f1_min, f1_max = X[:, 1].min()-1, X[:, 1].max()+1\n",
    "f0_grid, f1_grid = np.meshgrid(np.arange(f0_min, f0_max, 0.05), np.arange(f1_min, f1_max, 0.05))\n",
    "X_grid = np.c_[f0_grid.ravel(), f1_grid.ravel()]\n",
    "y_pred_grid = clf.predict(X_grid)\n",
    "\n",
    "# plot the decision regions and the two predicted samples\n",
    "fig = plt.figure(figsize=(6, 6))\n",
    "cmap = plt.set_cmap(plt.cm.Paired)\n",
    "plt.pcolormesh(f0_grid, f1_grid, y_pred_grid.reshape(f0_grid.shape))\n",
    "plt.scatter(X[:, 0], X[:, 1], c=y, edgecolors='k')\n",
    "plt.scatter(X_new[0, 0], X_new[0, 1], c='b', marker='*', s=300, label='First sample')\n",
    "plt.scatter(X_new[1, 0], X_new[1, 1], c='r', marker='*', s=300, label='Second sample')\n",
    "plt.legend()\n",
    "plt.show()"
   ]
  },
  {
   "cell_type": "code",
   "execution_count": null,
   "metadata": {
    "collapsed": true
   },
   "outputs": [],
   "source": []
  }
 ],
 "metadata": {
  "kernelspec": {
   "display_name": "Python 3",
   "language": "python",
   "name": "python3"
  },
  "language_info": {
   "codemirror_mode": {
    "name": "ipython",
    "version": 3
   },
   "file_extension": ".py",
   "mimetype": "text/x-python",
   "name": "python",
   "nbconvert_exporter": "python",
   "pygments_lexer": "ipython3",
   "version": "3.5.2"
  }
 },
 "nbformat": 4,
 "nbformat_minor": 2
}
